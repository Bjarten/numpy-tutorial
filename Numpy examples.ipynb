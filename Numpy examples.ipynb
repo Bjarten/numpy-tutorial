{
 "cells": [
  {
   "cell_type": "code",
   "execution_count": 30,
   "metadata": {},
   "outputs": [],
   "source": [
    "%matplotlib inline\n",
    "%config InlineBackend.figure_format = 'retina'\n",
    "import matplotlib.pyplot as plt\n",
    "import matplotlib.patheffects as path_effects\n",
    "import numpy as np\n",
    "colormap = 'viridis'"
   ]
  },
  {
   "cell_type": "code",
   "execution_count": 44,
   "metadata": {},
   "outputs": [],
   "source": [
    "def visulize_matrix(matrix, name):\n",
    "    fig, ax = plt.subplots()\n",
    "    im = ax.imshow(matrix, cmap=colormap)\n",
    "\n",
    "\n",
    "    # Loop over data dimensions and create text annotations.\n",
    "    for i, val in enumerate(inputs_array[0]):\n",
    "        text = ax.text(i, 0, val, ha=\"center\", va=\"center\", color=\"w\", fontsize=15)\n",
    "        text.set_path_effects([path_effects.Stroke(linewidth=0.5, foreground='black'),\n",
    "                       path_effects.withStroke()])\n",
    "    # Turn off tick labels\n",
    "    ax.set_yticklabels([])\n",
    "    ax.set_xticklabels([])\n",
    "    ax.xaxis.set_ticks_position('none') \n",
    "    ax.yaxis.set_ticks_position('none') \n",
    "\n",
    "    ax.set_title(name)\n",
    "    fig.tight_layout()\n",
    "    plt.show()"
   ]
  },
  {
   "cell_type": "code",
   "execution_count": 45,
   "metadata": {
    "scrolled": true
   },
   "outputs": [
    {
     "data": {
      "image/png": "[encoded data removed]",
      "text/plain": [
       "<Figure size 432x288 with 1 Axes>"
      ]
     },
     "metadata": {
      "image/png": {
       "height": 76,
       "width": 421
      },
      "needs_background": "light"
     },
     "output_type": "display_data"
    }
   ],
   "source": [
    "inputs_list = [1,2,3,4,5,6,7,8,9]\n",
    "inputs_array = np.array([inputs_list])\n",
    "visulize_matrix(inputs_array, 'inputs_array')"
   ]
  },
  {
   "cell_type": "code",
   "execution_count": null,
   "metadata": {},
   "outputs": [],
   "source": []
  }
 ],
 "metadata": {
  "kernelspec": {
   "display_name": "Python 3",
   "language": "python",
   "name": "python3"
  },
  "language_info": {
   "codemirror_mode": {
    "name": "ipython",
    "version": 3
   },
   "file_extension": ".py",
   "mimetype": "text/x-python",
   "name": "python",
   "nbconvert_exporter": "python",
   "pygments_lexer": "ipython3",
   "version": "3.5.5"
  }
 },
 "nbformat": 4,
 "nbformat_minor": 2
}
